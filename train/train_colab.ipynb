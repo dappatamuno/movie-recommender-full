{
  "cells": [
    {
      "cell_type": "markdown",
      "metadata": {},
      "source": [
        "# Train MovieLens SVD model in Google Colab\\n\\nThis notebook installs `scikit-surprise`, trains an SVD model on MovieLens 100K, and saves `model.pkl` and `movies.csv` to the runtime. Download those files and add them to the `backend/model/` directory in this repo."
      ]
    },
    {
      "cell_type": "code",
      "metadata": {},
      "source": [
        "!pip install scikit-surprise pandas joblib\\n",
        "from surprise import Dataset, SVD\\n",
        "from surprise.model_selection import train_test_split\\n",
        "import joblib, pandas as pd\\n",
        "data = Dataset.load_builtin('ml-100k')\\n",
        "trainset, testset = train_test_split(data, test_size=0.2, random_state=42)\\n",
        "algo = SVD(n_factors=50, n_epochs=20, random_state=42)\\n",
        "algo.fit(trainset)\\n",
        "preds = algo.test(testset)\\n",
        "from surprise import accuracy\\n",
        "accuracy.rmse(preds)\\n",
        "joblib.dump(algo, 'model.pkl')\\n",
        "import zipfile, urllib.request\\n",
        "urllib.request.urlretrieve('http://files.grouplens.org/datasets/movielens/ml-100k.zip','ml-100k.zip')\\n",
        "with zipfile.ZipFile('ml-100k.zip','r') as z:\\n",
        "    z.extractall()\\n",
        "cols = ['movieId','title','release_date','video_release_date','imdb_url'] + [f'g{i}' for i in range(19)]\\n",
        "genre_names = ['Unknown','Action','Adventure','Animation','Children\\'s','Comedy','Crime','Documentary','Drama','Fantasy','Film-Noir','Horror','Musical','Mystery','Romance','Sci-Fi','Thriller','War','Western']\\n",
        "df = pd.read_csv('ml-100k/u.item', sep='|', encoding='latin-1', names=cols)\\n",
        "df['genres'] = df.iloc[:,5:5+19].apply(lambda r: '|'.join([g for g,f in zip(genre_names, r) if f==1]), axis=1)\\n",
        "df[['movieId','title','genres']].to_csv('movies.csv', index=False)\\n",
        "# In Colab: download the following files from the left Files pane after running\\n",
        "# - model.pkl\\n",
        "# - movies.csv\\n"
      ]
    }
  ],
  "metadata": {
    "kernelspec": {
      "display_name": "Python 3",
      "name": "python3"
    },
    "language_info": {
      "name": "python"
    }
  },
  "nbformat": 4,
  "nbformat_minor": 5
}